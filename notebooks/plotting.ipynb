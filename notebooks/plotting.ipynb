{
 "cells": [
  {
   "cell_type": "code",
   "execution_count": 1,
   "metadata": {},
   "outputs": [
    {
     "data": {
      "text/html": [
       "\n",
       "<style>\n",
       "    div#notebook-container    { width: 95%; }\n",
       "    div#menubar-container     { width: 65%; }\n",
       "    div#maintoolbar-container { width: 99%; }\n",
       "</style>\n"
      ],
      "text/plain": [
       "<IPython.core.display.HTML object>"
      ]
     },
     "metadata": {},
     "output_type": "display_data"
    }
   ],
   "source": [
    "from IPython.display import display, HTML\n",
    "\n",
    "display(HTML(data=\"\"\"\n",
    "<style>\n",
    "    div#notebook-container    { width: 95%; }\n",
    "    div#menubar-container     { width: 65%; }\n",
    "    div#maintoolbar-container { width: 99%; }\n",
    "</style>\n",
    "\"\"\"))"
   ]
  },
  {
   "cell_type": "code",
   "execution_count": 3,
   "metadata": {},
   "outputs": [
    {
     "name": "stdout",
     "output_type": "stream",
     "text": [
      "/home/antreas/current_research_forge/pytorch-experiments-template\n"
     ]
    }
   ],
   "source": [
    "%load_ext autoreload\n",
    "%reload_ext autoreload\n",
    "%matplotlib widget\n",
    "import ipywidgets as widgets\n",
    "import os\n",
    "os.chdir('../')\n",
    "print(os.getcwd())\n",
    "import numpy as np\n",
    "import matplotlib.pyplot as plt\n",
    "from matplotlib.colors import ListedColormap\n",
    "import seaborn as sns\n",
    "sns.set()\n",
    "sns.set_style(\"darkgrid\")\n",
    "from utils import *\n",
    "import scipy.misc\n",
    "import glob\n",
    "import operator\n",
    "from utils.metric_tracking import MetricTracker\n",
    "import os.path\n",
    "\n"
   ]
  },
  {
   "cell_type": "code",
   "execution_count": null,
   "metadata": {},
   "outputs": [],
   "source": []
  },
  {
   "cell_type": "markdown",
   "metadata": {},
   "source": [
    "## Read and collect results from a target log directory\n",
    "\n",
    "Checking the target directory, find all folders (each of which is an experiment), and create a metric tracking object for each of these, wrt train, valid, and test (if they exist)"
   ]
  },
  {
   "cell_type": "code",
   "execution_count": 4,
   "metadata": {},
   "outputs": [
    {
     "name": "stdout",
     "output_type": "stream",
     "text": [
      "metrics_training.pt\n",
      "metrics_validation.pt\n",
      "metrics_testing.pt\n",
      "metrics.png\n",
      "metrics.png\n",
      "epoch_96_model_dev.ckpt\n",
      "snapshot.tar.gz\n",
      "latest_dev.ckpt\n"
     ]
    }
   ],
   "source": [
    "from collections import defaultdict\n",
    "\n",
    "def compute_accuracy(logits, targets):\n",
    "    acc = (targets == logits.argmax(-1)).float().detach().cpu().numpy()\n",
    "    return float(np.mean(acc)) * 100\n",
    "\n",
    "target_directory = 'log/'\n",
    "collected_results = defaultdict(dict)\n",
    "\n",
    "metrics_to_track = {\"cross_entropy\": \n",
    "                    lambda x, y: torch.nn.CrossEntropyLoss()(x, y).item(),\n",
    "                    \"accuracy\":\n",
    "                    compute_accuracy}\n",
    "\n",
    "from collections import defaultdict\n",
    "\n",
    "for subdir, dir, files in os.walk(target_directory):\n",
    "    for file in files:\n",
    "        print(file)\n",
    "        if file.endswith('.pt'):\n",
    "            experiment_name = subdir.split('/')[1]\n",
    "            filepath = os.path.join(subdir, file)\n",
    "            set_name = file.replace('metrics_', '').replace('.pt', '')\n",
    "            collected_results[experiment_name][f'{set_name}'] = MetricTracker(load=True, \n",
    "                                                           path=filepath,\n",
    "                                                           tracker_name=set_name,\n",
    "                                                           metrics_to_track=metrics_to_track)\n",
    "           "
   ]
  },
  {
   "cell_type": "markdown",
   "metadata": {},
   "source": [
    "## Neaten things up\n",
    "\n",
    "Often experiments will be named with more infomation than strictly necessary for plotting and this can be untidy. Here we make choices re: neatening nameing wrt experiment names, results to be plotted, etc. "
   ]
  },
  {
   "cell_type": "code",
   "execution_count": 5,
   "metadata": {},
   "outputs": [],
   "source": [
    "def setup_metrics_sets_and_colours(num_experiments):\n",
    "    metrics_to_plot = {\n",
    "        'Loss (Cross Entropy)':('cross_entropy_mean', [0, 3]),\n",
    "        'Accuracy':('accuracy_mean', None),\n",
    "    }\n",
    "\n",
    "    linestyles = {\n",
    "        'training':'-',\n",
    "        'validation':'--',\n",
    "        'testing':':',\n",
    "    }\n",
    "\n",
    "    alphas = {\n",
    "        'training':1.0,\n",
    "        'validation':0.7,\n",
    "        'testing':0.5,\n",
    "    }\n",
    "\n",
    "    splits_to_plot = ['training', 'validation']\n",
    "\n",
    "    plot_names = {}\n",
    "\n",
    "    colour_type = 'muted'\n",
    "    if colour_type.lower() == 'hls':\n",
    "        colours = sns.hls_palette(num_experiments, l=0.4, s=1)\n",
    "    elif colour_type.lower() == 'bright':\n",
    "        colours = sns.color_palette('bright', num_experiments)\n",
    "    elif colour_type.lower() == 'deep':\n",
    "        colours = sns.color_palette('deep', num_experiments)\n",
    "    elif colour_type.lower() == 'muted':\n",
    "        colours = sns.color_palette('muted', num_experiments)\n",
    "    elif colour_type.lower() == 'pastel':\n",
    "        colours = sns.color_palette('pastel', num_experiments)\n",
    "    elif colour_type.lower() == 'cubehelix':\n",
    "        colours = sns.color_palette('cubehelix', num_experiments)\n",
    "    elif colour_type.lower() == 'blues':\n",
    "        colours = sns.color_palette('Blues', num_experiments)\n",
    "    elif colour_type.lower() == 'reds':\n",
    "        colours = sns.color_palette('Reds', num_experiments)\n",
    "    else:\n",
    "        colours = sns.hls_palette(num_experiments, l=0.4, s=1)\n",
    "#     sns.palplot(colours)\n",
    "\n",
    "\n",
    "    linewidth = 2.5\n",
    "    columns = 1\n",
    "    rows = int(np.ceil(len(metrics_to_plot) / columns))\n",
    "    save_format = 'png'\n",
    "    print('Going to plot {} rows of {} column(s)'.format(rows, columns))\n",
    "    return plot_names, metrics_to_plot, splits_to_plot, linestyles, alphas, rows, colour_type, columns, linewidth, colours, save_format"
   ]
  },
  {
   "cell_type": "markdown",
   "metadata": {},
   "source": [
    "## Do the actual plotting here"
   ]
  },
  {
   "cell_type": "code",
   "execution_count": 14,
   "metadata": {},
   "outputs": [
    {
     "name": "stdout",
     "output_type": "stream",
     "text": [
      "1 experiments filtered in. Keeping:\n",
      "Going to plot 2 rows of 1 column(s)\n",
      "example_resnet_9_cifar100\n"
     ]
    },
    {
     "data": {
      "application/vnd.jupyter.widget-view+json": {
       "model_id": "20316e52f4ef43bfbda80951f9f52509",
       "version_major": 2,
       "version_minor": 0
      },
      "text/plain": [
       "FigureCanvasNbAgg()"
      ]
     },
     "metadata": {},
     "output_type": "display_data"
    }
   ],
   "source": [
    "experiments_to_keep = []\n",
    "include_keywords = ['cifar100']\n",
    "exclude_keywords = []\n",
    "filtered_results = dict()\n",
    "\n",
    "for experiment_name, value in collected_results.items():\n",
    "    if len(experiments_to_keep) != 0:\n",
    "        if experiment_name in experiments_to_keep:\n",
    "            filtered_results[experiment_name] = value\n",
    "            continue\n",
    "    \n",
    "    if all([item in experiment_name for item in include_keywords]) and \\\n",
    "    not any([item in experiment_name for item in exclude_keywords]):\n",
    "        filtered_results[experiment_name] = value\n",
    "        \n",
    "        \n",
    "    \n",
    "num_experiments = len(filtered_results)\n",
    "print('{} experiments filtered in. Keeping:'.format(num_experiments))\n",
    "plot_names, metrics_to_plot, splits_to_plot, linestyles, alphas, rows, colour_type, columns, linewidth, colours, save_format = setup_metrics_sets_and_colours(num_experiments)\n",
    "\n",
    "for key, value in filtered_results.items():\n",
    "    print(key)\n",
    "\n",
    "figure = plt.figure(figsize=(8, 7 * rows))\n",
    "for axi, (metric_name, (metric_identifier, y_limits)) in enumerate(metrics_to_plot.items()):\n",
    "    ax = figure.add_subplot(rows, columns, axi+1)\n",
    "    for expi, (experiment_name, metric_tracker) in enumerate(filtered_results.items()):\n",
    "        if experiment_name in plot_names:\n",
    "            experiment_name = plot_names[experiment_name]\n",
    "            \n",
    "        for which_split in splits_to_plot:\n",
    "            if which_split in metric_tracker:\n",
    "                per_epoch_results = metric_tracker[which_split].collect_per_epoch()\n",
    "                epochs = per_epoch_results['epochs']\n",
    "                if metric_identifier in per_epoch_results:\n",
    "                    ax.plot(\n",
    "                        epochs,                         \n",
    "                        per_epoch_results[metric_identifier],\n",
    "                        color=colours[expi], \n",
    "                        label='({}) {} ({:0.4f})'.format(which_split, experiment_name, per_epoch_results[metric_identifier][-1]),\n",
    "                        alpha=alphas[which_split], \n",
    "                        linewidth=linewidth,\n",
    "                        linestyle=linestyles[which_split],\n",
    "                    )\n",
    "    if y_limits is not None:\n",
    "        ax.set_ylim(y_limits[0], y_limits[1])\n",
    "    ax.legend(frameon=False, ncol=1)\n",
    "    ax.set_xlabel('Epochs')\n",
    "    ax.set_ylabel(metric_name)\n",
    "\n",
    "figure.canvas.resizable = True\n",
    "figure.canvas.capture_scroll = True\n",
    "figure.canvas.toolbar_visible = True\n",
    "figure.tight_layout()\n"
   ]
  },
  {
   "cell_type": "code",
   "execution_count": 15,
   "metadata": {},
   "outputs": [],
   "source": [
    "figure.savefig(f'{target_directory}/results.{save_format}')"
   ]
  },
  {
   "cell_type": "code",
   "execution_count": null,
   "metadata": {},
   "outputs": [],
   "source": []
  },
  {
   "cell_type": "code",
   "execution_count": null,
   "metadata": {},
   "outputs": [],
   "source": []
  },
  {
   "cell_type": "code",
   "execution_count": null,
   "metadata": {},
   "outputs": [],
   "source": []
  },
  {
   "cell_type": "code",
   "execution_count": null,
   "metadata": {},
   "outputs": [],
   "source": []
  },
  {
   "cell_type": "code",
   "execution_count": null,
   "metadata": {},
   "outputs": [],
   "source": []
  },
  {
   "cell_type": "code",
   "execution_count": null,
   "metadata": {},
   "outputs": [],
   "source": []
  }
 ],
 "metadata": {
  "kernelspec": {
   "display_name": "Python 3",
   "language": "python",
   "name": "python3"
  },
  "language_info": {
   "codemirror_mode": {
    "name": "ipython",
    "version": 3
   },
   "file_extension": ".py",
   "mimetype": "text/x-python",
   "name": "python",
   "nbconvert_exporter": "python",
   "pygments_lexer": "ipython3",
   "version": "3.7.10"
  }
 },
 "nbformat": 4,
 "nbformat_minor": 4
}
